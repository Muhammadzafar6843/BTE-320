{
 "cells": [
  {
   "cell_type": "markdown",
   "metadata": {
    "colab_type": "text",
    "id": "view-in-github"
   },
   "source": [
    "<a href=\"https://colab.research.google.com/github/TheLittleBoyBlue/BTE-320/blob/main/RockPaper.ipynb\" target=\"_parent\"><img src=\"https://colab.research.google.com/assets/colab-badge.svg\" alt=\"Open In Colab\"/></a>"
   ]
  },
  {
   "cell_type": "code",
   "execution_count": null,
   "metadata": {
    "id": "SlAIl3K8rE-v"
   },
   "outputs": [],
   "source": [
    "\n",
    "import random\n",
    "\n",
    "# Get choices\n",
    "player_choice = input(\"Enter your choice (rock, paper, or scissors): \")\n",
    "ai_choice = random.choice([\"rock\", \"paper\", \"scissors\"])\n",
    "\n",
    "# Display choices\n",
    "print(f\"Player chose: {player_choice}\")\n",
    "print(f\"AI chose: {ai_choice}\")\n",
    "\n",
    "# Determine the outcome\n",
    "if player_choice == ai_choice:\n",
    "    print(\"It's a tie!\")\n",
    "elif (\n",
    "    (player_choice == \"rock\" and ai_choice == \"scissors\") or\n",
    "    (player_choice == \"paper\" and ai_choice == \"rock\") or\n",
    "    (player_choice == \"scissors\" and ai_choice == \"paper\")\n",
    "):\n",
    "    print(\"Player wins!\")\n",
    "else:\n",
    "    print(\"AI wins!\")\n"
   ]
  }
 ],
 "metadata": {
  "colab": {
   "authorship_tag": "ABX9TyOExcn6fgkQr4IW+OGGfX9K",
   "include_colab_link": true,
   "provenance": []
  },
  "kernelspec": {
   "display_name": "Python 3 (ipykernel)",
   "language": "python",
   "name": "python3"
  },
  "language_info": {
   "codemirror_mode": {
    "name": "ipython",
    "version": 3
   },
   "file_extension": ".py",
   "mimetype": "text/x-python",
   "name": "python",
   "nbconvert_exporter": "python",
   "pygments_lexer": "ipython3",
   "version": "3.11.3"
  }
 },
 "nbformat": 4,
 "nbformat_minor": 1
}
