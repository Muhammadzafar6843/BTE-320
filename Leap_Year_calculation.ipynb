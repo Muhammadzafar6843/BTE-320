{
 "cells": [
  {
   "cell_type": "markdown",
   "metadata": {
    "colab_type": "text",
    "id": "view-in-github"
   },
   "source": [
    "<a href=\"https://colab.research.google.com/github/TheLittleBoyBlue/BTE-320/blob/main/leapyear.ipynb\" target=\"_parent\"><img src=\"https://colab.research.google.com/assets/colab-badge.svg\" alt=\"Open In Colab\"/></a>"
   ]
  },
  {
   "cell_type": "code",
   "execution_count": null,
   "metadata": {
    "id": "DLouiuSOq5GR"
   },
   "outputs": [],
   "source": [
    "\n",
    "def is_leap_year(year):\n",
    "    # Determine if a year is a leap year\n",
    "    if (year % 4 == 0 and year % 100 != 0) or (year % 400 == 0):\n",
    "        return True\n",
    "    else:\n",
    "        return False\n",
    "\n",
    "# Collect user input\n",
    "input_year = int(input(\"Enter a year: \"))\n",
    "\n",
    "# Check if the year is a leap year and print the result\n",
    "if is_leap_year(input_year):\n",
    "    print(f\"{input_year} is a leap year!\")\n",
    "else:\n",
    "    print(f\"{input_year} is not a leap year.\")\n"
   ]
  }
 ],
 "metadata": {
  "colab": {
   "authorship_tag": "ABX9TyNQsdFVbSyUTi1QB/Bt/BwU",
   "include_colab_link": true,
   "provenance": []
  },
  "kernelspec": {
   "display_name": "Python 3",
   "name": "python3"
  },
  "language_info": {
   "name": "python"
  }
 },
 "nbformat": 4,
 "nbformat_minor": 0
}
