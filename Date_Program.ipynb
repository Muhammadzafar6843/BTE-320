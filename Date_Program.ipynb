{
 "cells": [
  {
   "cell_type": "markdown",
   "metadata": {
    "colab_type": "text",
    "id": "view-in-github"
   },
   "source": [
    "<a href=\"https://colab.research.google.com/github/TheLittleBoyBlue/BTE-320/blob/main/2_21_24.ipynb\" target=\"_parent\"><img src=\"https://colab.research.google.com/assets/colab-badge.svg\" alt=\"Open In Colab\"/></a>"
   ]
  },
  {
   "cell_type": "code",
   "execution_count": null,
   "metadata": {
    "colab": {
     "base_uri": "https://localhost:8080/"
    },
    "id": "jbVGpZZ0NSow",
    "outputId": "f5c84ae8-e675-4e0d-e47a-5e3eb5c157fc"
   },
   "outputs": [],
   "source": [
    "\n",
    "def parse_date(date_input):\n",
    "    try:\n",
    "        month, day, year = date_input.split('/')\n",
    "        if len(month) == 2 and len(day) == 2 and len(year) == 4:\n",
    "            print(f\"Month: {month}\")\n",
    "            print(f\"Day: {day}\")\n",
    "            print(f\"Year: {year}\")\n",
    "        else:\n",
    "            print(\"Invalid date format. Please enter the date in mm/dd/yyyy format.\")\n",
    "    except ValueError:\n",
    "        print(\"Error: The date format should be mm/dd/yyyy.\")\n",
    "\n",
    "# Get user input\n",
    "user_date = input(\"Enter a Date: mm/dd/yyyy \")\n",
    "parse_date(user_date)\n"
   ]
  },
  {
   "cell_type": "code",
   "execution_count": null,
   "metadata": {},
   "outputs": [],
   "source": []
  }
 ],
 "metadata": {
  "colab": {
   "authorship_tag": "ABX9TyNWUP/ei+7V5tjFFiX7AXvr",
   "include_colab_link": true,
   "provenance": []
  },
  "kernelspec": {
   "display_name": "Python 3 (ipykernel)",
   "language": "python",
   "name": "python3"
  },
  "language_info": {
   "codemirror_mode": {
    "name": "ipython",
    "version": 3
   },
   "file_extension": ".py",
   "mimetype": "text/x-python",
   "name": "python",
   "nbconvert_exporter": "python",
   "pygments_lexer": "ipython3",
   "version": "3.11.3"
  }
 },
 "nbformat": 4,
 "nbformat_minor": 1
}
