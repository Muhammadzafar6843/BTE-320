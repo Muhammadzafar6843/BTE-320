{
 "cells": [
  {
   "cell_type": "markdown",
   "metadata": {
    "colab_type": "text",
    "id": "view-in-github"
   },
   "source": [
    "<a href=\"https://colab.research.google.com/github/TheLittleBoyBlue/BTE-320/blob/main/DepositWithInterest.ipynb\" target=\"_parent\"><img src=\"https://colab.research.google.com/assets/colab-badge.svg\" alt=\"Open In Colab\"/></a>"
   ]
  },
  {
   "cell_type": "code",
   "execution_count": null,
   "metadata": {
    "id": "kZFy124CsAmq"
   },
   "outputs": [],
   "source": [
    "\n",
    "def calculate_total_deposit(name, customer_type, deposit_amount):\n",
    "    # Set interest rates based on customer type and deposit amount\n",
    "    if customer_type == 'n':\n",
    "        interest_rate = 0.03\n",
    "    else:\n",
    "        if deposit_amount <= 1000:\n",
    "            interest_rate = 0.03\n",
    "        elif deposit_amount <= 10000:\n",
    "            interest_rate = 0.0325\n",
    "        else:\n",
    "            interest_rate = 0.035\n",
    "\n",
    "    # Calculate total amount after interest\n",
    "    total_amount = (1 + interest_rate) * deposit_amount\n",
    "    return total_amount\n",
    "\n",
    "# Collect user inputs\n",
    "customer_name = input('Enter your name: ')\n",
    "customer_type = input('Enter customer type (n: new, e: existing): ')\n",
    "deposit_amount = float(input(\"Enter deposit amount (in $): \"))\n",
    "\n",
    "# Calculate and print total deposit amount\n",
    "total_deposit = calculate_total_deposit(customer_name, customer_type, deposit_amount)\n",
    "print(f\"Total deposit amount for {customer_name} after interest: ${total_deposit:.2f}\")\n"
   ]
  }
 ],
 "metadata": {
  "colab": {
   "authorship_tag": "ABX9TyNXe87Wt7c5LMk7UPeTENf4",
   "include_colab_link": true,
   "provenance": []
  },
  "kernelspec": {
   "display_name": "Python 3 (ipykernel)",
   "language": "python",
   "name": "python3"
  },
  "language_info": {
   "codemirror_mode": {
    "name": "ipython",
    "version": 3
   },
   "file_extension": ".py",
   "mimetype": "text/x-python",
   "name": "python",
   "nbconvert_exporter": "python",
   "pygments_lexer": "ipython3",
   "version": "3.11.3"
  }
 },
 "nbformat": 4,
 "nbformat_minor": 1
}
