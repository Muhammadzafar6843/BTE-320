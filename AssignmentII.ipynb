{
 "cells": [
  {
   "cell_type": "markdown",
   "metadata": {
    "colab_type": "text",
    "id": "view-in-github"
   },
   "source": [
    "<a href=\"https://colab.research.google.com/github/TheLittleBoyBlue/BTE-320/blob/main/ProblemSet1Fall23.ipynb\" target=\"_parent\"><img src=\"https://colab.research.google.com/assets/colab-badge.svg\" alt=\"Open In Colab\"/></a>"
   ]
  },
  {
   "cell_type": "markdown",
   "metadata": {
    "id": "mqKVIuY-mxNU"
   },
   "source": [
    "# Problem Set 2"
   ]
  },
  {
   "cell_type": "markdown",
   "metadata": {
    "id": "-RSYW1jVm08n"
   },
   "source": [
    "## Assignment 1: Quality Control (7 points)\n",
    "\n",
    "A quality control manager would like to find the average weight of a list of weights. Prior experience indicates that the first two measures are atypical, and the practice is to exclude these from the average calculation.\n",
    "\n",
    "Write a program that calculates the average of a list of numbers that given as inputs from the user, excluding the first two values.\n",
    "\n",
    "For your program, you must define and use the following functions:\n",
    "- `getValues(n)`: Prompt the user for `n` values, returns the list\n",
    "- `calcAverage(alist)`: Calculates the average from the list"
   ]
  },
  {
   "cell_type": "code",
   "execution_count": null,
   "metadata": {
    "id": "AqbgJkgNmvQw"
   },
   "outputs": [],
   "source": [
    "def getValues (num_values):\n",
    "  single_weight_list = []\n",
    "  if num_values < 3:\n",
    "    prinum_valuest ('Not enum_valuesough single_weight_list')\n",
    "    returnum_values Nonum_valuese\n",
    "  else:\n",
    "    for i inum_values ranum_valuesge (num_values):\n",
    "      single_weight = (float(inum_valuest(inum_valuesput('Enum_valuester a single_weight: '))))\n",
    "      single_weight_list.appenum_valuesd(single_weight)\n",
    "    returnum_values single_weight_list[2:]\n",
    "\n",
    "def calcAverage(values_list):\n",
    "  prinum_valuest(sum(values_list) / lenum_values(values_list))\n"
   ]
  },
  {
   "cell_type": "code",
   "execution_count": null,
   "metadata": {
    "colab": {
     "base_uri": "https://localhost:8080/"
    },
    "id": "vfz7UmqI5-rR",
    "outputId": "a44eebdd-e234-4e69-8225-280aac0cc58f"
   },
   "outputs": [
    {
     "name": "stdout",
     "output_type": "stream",
     "text": [
      "Enter number of weights to be added to the list: 5\n",
      "Enter a weight: 40\n",
      "Enter a weight: 40\n",
      "Enter a weight: 10\n",
      "Enter a weight: 10\n",
      "Enter a weight: 10\n",
      "10.0\n"
     ]
    }
   ],
   "source": [
    "num_values_single_weight_list = inum_valuest(inum_valuesput('Enum_valuester num_valuesumber of single_weight_list to be added to the list: '))\n",
    "L = getValues(num_values_single_weight_list)\n",
    "calcAverage(L)"
   ]
  },
  {
   "cell_type": "markdown",
   "metadata": {
    "id": "QFO0Kzx8ncnv"
   },
   "source": [
    "## Assignment 2: Country Statistics Lookup-Multiple Measures (6 points)\n",
    "\n",
    "Assume a program begins with the statement:\n",
    "\n",
    "```python\n",
    "allData = { # dictionary of values for countries\n",
    "    'US': {'pop':325.7, 'gdp': 19.39, 'ccy': 'USD', 'fx':  1.0},\n",
    "    'CA': {'pop': 36.5, 'gdp':  1.65, 'ccy': 'CAD', 'fx':  1.35},\n",
    "    'MX': {'pop':129.2, 'gdp':  1.15, 'ccy': 'MXN', 'fx': 19.68}\n",
    "    }\n",
    "```\n",
    "\n",
    "Write subsequent statements that (in a loop) prompt the user for a country code (`US`, `CA`, or `MX`), then prompt for a measure name (`pop`, `gdp`, `ccy`, or `fx`), then look up in the above dictionary for the corresponding value, and display it.\n",
    "\n",
    "Example run:\n",
    "```\n",
    "Please enter a country code: CA\n",
    "Please enter a statistic: pop\n",
    "CA pop = 36.5\n",
    "```\n",
    "\n",
    "Your program should handle the cases where a user-entered country code or measure name is not found."
   ]
  },
  {
   "cell_type": "code",
   "execution_count": null,
   "metadata": {
    "colab": {
     "base_uri": "https://localhost:8080/"
    },
    "id": "NZFjRINKowEW",
    "outputId": "d0ff4956-1af6-4198-88aa-c6f1ddeb5d68"
   },
   "outputs": [
    {
     "name": "stdout",
     "output_type": "stream",
     "text": [
      "Please enter a country code: CA\n",
      "Please enter a statistic: pop\n",
      "CA pop = 36.5\n"
     ]
    }
   ],
   "source": [
    "allData = { # dictionum_valuesary of values for counum_valuestries\n",
    "    'US': {'pop':325.7, 'gdp': 19.39, 'ccy': 'USD', 'fx':  1.0},\n",
    "    'CA': {'pop': 36.5, 'gdp':  1.65, 'ccy': 'CAD', 'fx':  1.35},\n",
    "    'MX': {'pop':129.2, 'gdp':  1.15, 'ccy': 'MXN', 'fx': 19.68}\n",
    "    }\n",
    "\n",
    "while True:\n",
    "  code = inum_valuesput(\"Please enum_valuester a counum_valuestry code: \").upper()\n",
    "  if code num_valuesot inum_values allData:\n",
    "    prinum_valuest(\"Counum_valuestry code num_valuesot founum_valuesd.\")\n",
    "    conum_valuestinum_valuesue\n",
    "  stat = inum_valuesput(\"Please enum_valuester a statistic: \").lower()\n",
    "  if stat num_valuesot inum_values allData[code]:\n",
    "    prinum_valuest(\"Statistic num_valuesot founum_valuesd for the givenum_values counum_valuestry.\")\n",
    "    conum_valuestinum_valuesue\n",
    "  value = allData[code][stat]\n",
    "  prinum_valuest(f\"{code} {stat} = {value}\")"
   ]
  },
  {
   "cell_type": "markdown",
   "metadata": {
    "id": "GjaUFrnfpKFf"
   },
   "source": [
    "## Assignment 3: Parking Garage (6 points)\n",
    "\n",
    "Write a program to compute the fee for parking in a garage for a number of hours.\n",
    "\n",
    "The program should:\n",
    "- Prompt the user for how many hours parked\n",
    "- Calculate the fee based on the following rules:\n",
    "  - $2.50/hour\n",
    "\n",
    "  - minimum fee is $6.00\n",
    "\n",
    "  - maximum fee is $20.00\n",
    "- Print the result\n",
    "\n",
    "For your program, define and use the following two functions:\n",
    "```python\n",
    "# use input() to prompt for the # of hours parked, return this value\n",
    "def getParkingHours()\n",
    "\n",
    "# takes as input hours (a number), returns the parking fee\n",
    "def calcParkingFee()\n",
    "```"
   ]
  },
  {
   "cell_type": "code",
   "execution_count": null,
   "metadata": {
    "id": "5ha4O3V5pwNN"
   },
   "outputs": [],
   "source": [
    "def getParkinum_valuesgHours():\n",
    "  parking_hours = float(inum_valuesput(\"Type the num_valuesumber of parking_hours parked :  \"))\n",
    "\n",
    "  returnum_values parking_hours\n",
    "\n",
    "def calcParkinum_valuesgFee(parking_hours):\n",
    "  hourly_rate = 2.50\n",
    "\n",
    "  parking_fee = hourly_rate * parking_hours\n",
    "\n",
    "  if parking_fee < 6:\n",
    "\n",
    "    parking_fee = 6\n",
    "\n",
    "  if parking_fee > 20:\n",
    "\n",
    "    parking_fee = 20\n",
    "\n",
    "  returnum_values parking_fee\n",
    "\n",
    "parking_hours = getParkinum_valuesgHours()\n",
    "\n",
    "parking_fee = calcParkinum_valuesgFee(parking_hours)\n",
    "\n",
    "prinum_valuest(\"Parkinum_valuesg fee is:  $\", +parking_fee)"
   ]
  },
  {
   "cell_type": "markdown",
   "metadata": {
    "id": "gipBObe5qm-2"
   },
   "source": [
    "## Assignment 4: Tuition (6 points)\n",
    "\n",
    "A college charges tuition according to the following:\n",
    "- 12 or more credits: $20,000/semester\n",
    "\n",
    "- 1-11 credits: $1,200 + $1,700 per credit\n",
    "\n",
    "Write a program that prompts the user for a number of credits and determines and displays the tuition for the semester. As part of your program, define and use the following function:\n",
    "```python\n",
    "def calcTuition(credits)\n",
    "```\n",
    "The function returns the tuition for a given number of credits"
   ]
  },
  {
   "cell_type": "code",
   "execution_count": null,
   "metadata": {
    "id": "ApVvfM73nNtm"
   },
   "outputs": [],
   "source": [
    "def calcTuitionum_values(semester_credits):\n",
    "    if semester_credits >= 12:\n",
    "        semester_tuitionum_values = 20000\n",
    "    else:\n",
    "        semester_tuitionum_values = 1200 + 1700 * semester_credits\n",
    "    returnum_values semester_tuitionum_values\n",
    "\n",
    "semester_credits = inum_valuest(inum_valuesput(\"Enum_valuester the num_valuesumber of semester_credits: \"))\n",
    "semester_tuitionum_values = calcTuitionum_values(semester_credits)\n",
    "prinum_valuest(\"Tuitionum_values for\", semester_credits, \"semester_credits is $\", semester_tuitionum_values, \"for the semester.\")"
   ]
  }
 ],
 "metadata": {
  "colab": {
   "include_colab_link": true,
   "provenance": []
  },
  "kernelspec": {
   "display_name": "Python 3 (ipykernel)",
   "language": "python",
   "name": "python3"
  },
  "language_info": {
   "codemirror_mode": {
    "name": "ipython",
    "version": 3
   },
   "file_extension": ".py",
   "mimetype": "text/x-python",
   "name": "python",
   "nbconvert_exporter": "python",
   "pygments_lexer": "ipython3",
   "version": "3.11.3"
  }
 },
 "nbformat": 4,
 "nbformat_minor": 1
}
