{
 "cells": [
  {
   "cell_type": "markdown",
   "metadata": {
    "colab_type": "text",
    "id": "view-in-github"
   },
   "source": [
    "<a href=\"https://colab.research.google.com/github/TheLittleBoyBlue/BTE-320/blob/main/2_12_24.ipynb\" target=\"_parent\"><img src=\"https://colab.research.google.com/assets/colab-badge.svg\" alt=\"Open In Colab\"/></a>"
   ]
  },
  {
   "cell_type": "code",
   "execution_count": null,
   "metadata": {
    "colab": {
     "base_uri": "https://localhost:8080/"
    },
    "id": "jgDJJndB4GXd",
    "outputId": "0f27654b-fb64-4fcd-d85e-3fa78c4b27d5"
   },
   "outputs": [
    {
     "name": "stdout",
     "output_type": "stream",
     "text": [
      "Simple Calculator. Type 'break' to exit.\n"
     ]
    }
   ],
   "source": [
    "def perform_operation(x, y, operator):\n",
    "    if operator == '+':\n",
    "        return x + y\n",
    "    elif operator == '-':\n",
    "        return x - y\n",
    "    elif operator == '*':\n",
    "        return x * y\n",
    "    elif operator == '/':\n",
    "        return x / y if y != 0 else 'Error: Division by zero'\n",
    "    elif operator == '//':\n",
    "        return x // y if y != 0 else 'Error: Division by zero'\n",
    "    elif operator == '%':\n",
    "        return x % y if y != 0 else 'Error: Division by zero'\n",
    "    elif operator == '**':\n",
    "        return x ** y\n",
    "    else:\n",
    "        return 'Invalid operator'\n",
    "\n",
    "print('Simple Calculator. Type \\'break\\' to exit.')\n",
    "while True:\n",
    "    try:\n",
    "        operator = input('Enter an operator (+, -, *, /, //, %, **) or \\'break\\' to exit: ')\n",
    "        if operator.lower() == 'break':\n",
    "            break\n",
    "        x = float(input('Enter the first number: '))\n",
    "        y = float(input('Enter the second number: '))\n",
    "        result = perform_operation(x, y, operator)\n",
    "        print('Result:', result)\n",
    "    except ValueError:\n",
    "        print('Invalid input. Please enter a valid number.')\n"
   ]
  },
  {
   "cell_type": "code",
   "execution_count": null,
   "metadata": {},
   "outputs": [],
   "source": []
  }
 ],
 "metadata": {
  "colab": {
   "authorship_tag": "ABX9TyOzZ95Hl1gZcuFL5zmgyIic",
   "include_colab_link": true,
   "provenance": []
  },
  "kernelspec": {
   "display_name": "Python 3 (ipykernel)",
   "language": "python",
   "name": "python3"
  },
  "language_info": {
   "codemirror_mode": {
    "name": "ipython",
    "version": 3
   },
   "file_extension": ".py",
   "mimetype": "text/x-python",
   "name": "python",
   "nbconvert_exporter": "python",
   "pygments_lexer": "ipython3",
   "version": "3.11.3"
  }
 },
 "nbformat": 4,
 "nbformat_minor": 1
}
