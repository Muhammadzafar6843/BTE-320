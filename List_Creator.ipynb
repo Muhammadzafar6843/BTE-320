{
 "cells": [
  {
   "cell_type": "markdown",
   "metadata": {
    "colab_type": "text",
    "id": "view-in-github"
   },
   "source": [
    "<a href=\"https://colab.research.google.com/github/TheLittleBoyBlue/BTE-320/blob/main/listcreator.ipynb\" target=\"_parent\"><img src=\"https://colab.research.google.com/assets/colab-badge.svg\" alt=\"Open In Colab\"/></a>"
   ]
  },
  {
   "cell_type": "code",
   "execution_count": 3,
   "metadata": {
    "colab": {
     "base_uri": "https://localhost:8080/"
    },
    "id": "QTvsY7zQuGev",
    "outputId": "633d387c-e759-4d4c-b015-914f9ae38f1b"
   },
   "outputs": [
    {
     "name": "stdout",
     "output_type": "stream",
     "text": [
      "Enter a value: 5\n",
      "Enter a value: 6\n",
      "Enter a value: 7\n",
      "Enter a value: 0\n"
     ]
    },
    {
     "data": {
      "text/plain": [
       "[5, 6, 7]"
      ]
     },
     "execution_count": 3,
     "metadata": {},
     "output_type": "execute_result"
    }
   ],
   "source": [
    "\n",
    "def collect_numbers():\n",
    "    numbers = []\n",
    "    while True:\n",
    "        entry = int(input('Enter a number (0 to stop): '))\n",
    "        if entry == 0:\n",
    "            break\n",
    "        numbers.append(entry)\n",
    "    return numbers\n",
    "\n",
    "# Collect numbers from user and display the list\n",
    "user_numbers = collect_numbers()\n",
    "print(\"Collected numbers:\", user_numbers)\n"
   ]
  }
 ],
 "metadata": {
  "colab": {
   "authorship_tag": "ABX9TyNbJdOXXv0v1UgIQYAp7wHg",
   "include_colab_link": true,
   "provenance": []
  },
  "kernelspec": {
   "display_name": "Python 3",
   "name": "python3"
  },
  "language_info": {
   "name": "python"
  }
 },
 "nbformat": 4,
 "nbformat_minor": 0
}
