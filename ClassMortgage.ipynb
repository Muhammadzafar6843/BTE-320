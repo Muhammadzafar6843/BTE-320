{
 "cells": [
  {
   "cell_type": "markdown",
   "metadata": {
    "colab_type": "text",
    "id": "view-in-github"
   },
   "source": [
    "<a href=\"https://colab.research.google.com/github/TheLittleBoyBlue/BTE-320/blob/main/classMortgage.ipynb\" target=\"_parent\"><img src=\"https://colab.research.google.com/assets/colab-badge.svg\" alt=\"Open In Colab\"/></a>"
   ]
  },
  {
   "cell_type": "code",
   "execution_count": 3,
   "metadata": {
    "id": "QPHSai62qjTv"
   },
   "outputs": [],
   "source": [
    "\n",
    "class Mortgage:\n",
    "    def __init__(self, principal, term_years, interest_rate):\n",
    "        self.principal = principal\n",
    "        self.term_years = term_years\n",
    "        self.interest_rate = interest_rate\n",
    "\n",
    "    def __str__(self):\n",
    "        return (f'Mortgage info: \\n Initial loan amount: {self.principal} $\\n'\n",
    "                f'Maturity term: {self.term_years} years\\n'\n",
    "                f'Interest rate: {self.interest_rate}%')\n",
    "\n",
    "    def get_interest_rate(self):\n",
    "        return self.interest_rate\n",
    "\n",
    "    def set_interest_rate(self, new_rate):\n",
    "        if new_rate >= 0:\n",
    "            self.interest_rate = new_rate\n",
    "        else:\n",
    "            print('Interest rate must be non-negative!')\n",
    "\n",
    "    def calculate_monthly_payment(self):\n",
    "        loan_amount = self.principal\n",
    "        months = self.term_years * 12\n",
    "        monthly_interest_rate = self.interest_rate / 1200\n",
    "\n",
    "        if monthly_interest_rate == 0:\n",
    "            return loan_amount / months\n",
    "        else:\n",
    "            monthly_payment = (loan_amount * (monthly_interest_rate * (1 + monthly_interest_rate) ** months)\n",
    "                               / ((1 + monthly_interest_rate) ** months - 1))\n",
    "            return monthly_payment\n",
    "\n",
    "# Example usage\n",
    "mortgage = Mortgage(100000, 30, 6)\n",
    "print(mortgage)\n",
    "print(f'Monthly payment: {mortgage.calculate_monthly_payment():.2f}')\n"
   ]
  },
  {
   "cell_type": "code",
   "execution_count": 4,
   "metadata": {
    "id": "WeU8-NY7tXcf"
   },
   "outputs": [],
   "source": [
    "m = Mortgage(100000,30,6)\n",
    "\n"
   ]
  },
  {
   "cell_type": "code",
   "execution_count": 6,
   "metadata": {
    "colab": {
     "base_uri": "https://localhost:8080/",
     "height": 263
    },
    "id": "oP2zrswmwkGM",
    "outputId": "eed37728-9dcb-4cc7-993b-11cdc777a48d"
   },
   "outputs": [
    {
     "ename": "AttributeError",
     "evalue": "'Mortgage' object has no attribute '_Mortgage__interest'",
     "output_type": "error",
     "traceback": [
      "\u001b[0;31m---------------------------------------------------------------------------\u001b[0m",
      "\u001b[0;31mAttributeError\u001b[0m                            Traceback (most recent call last)",
      "\u001b[0;32m<ipython-input-6-c384c0c7b6c7>\u001b[0m in \u001b[0;36m<cell line: 1>\u001b[0;34m()\u001b[0m\n\u001b[0;32m----> 1\u001b[0;31m \u001b[0mprint\u001b[0m\u001b[0;34m(\u001b[0m\u001b[0mm\u001b[0m\u001b[0;34m)\u001b[0m\u001b[0;34m\u001b[0m\u001b[0;34m\u001b[0m\u001b[0m\n\u001b[0m",
      "\u001b[0;32m<ipython-input-3-931d61a3cfca>\u001b[0m in \u001b[0;36m__str__\u001b[0;34m(self)\u001b[0m\n\u001b[1;32m      6\u001b[0m \u001b[0;34m\u001b[0m\u001b[0m\n\u001b[1;32m      7\u001b[0m   \u001b[0;32mdef\u001b[0m \u001b[0m__str__\u001b[0m\u001b[0;34m(\u001b[0m\u001b[0mself\u001b[0m\u001b[0;34m)\u001b[0m\u001b[0;34m:\u001b[0m\u001b[0;34m\u001b[0m\u001b[0;34m\u001b[0m\u001b[0m\n\u001b[0;32m----> 8\u001b[0;31m     \u001b[0;32mreturn\u001b[0m \u001b[0;34mf'Mortgage info: \\n Initial loan amount: {self.amount} $\\n Maturity term: {self.maturity} years\\n Interest rate: {self.__interest}%'\u001b[0m\u001b[0;34m\u001b[0m\u001b[0;34m\u001b[0m\u001b[0m\n\u001b[0m\u001b[1;32m      9\u001b[0m \u001b[0;34m\u001b[0m\u001b[0m\n\u001b[1;32m     10\u001b[0m   \u001b[0;32mdef\u001b[0m \u001b[0mget_interest\u001b[0m\u001b[0;34m(\u001b[0m\u001b[0mself\u001b[0m\u001b[0;34m)\u001b[0m\u001b[0;34m:\u001b[0m\u001b[0;34m\u001b[0m\u001b[0;34m\u001b[0m\u001b[0m\n",
      "\u001b[0;31mAttributeError\u001b[0m: 'Mortgage' object has no attribute '_Mortgage__interest'"
     ]
    }
   ],
   "source": []
  }
 ],
 "metadata": {
  "colab": {
   "authorship_tag": "ABX9TyMaOjOfMk3G4+FTW0dzPSN/",
   "include_colab_link": true,
   "provenance": []
  },
  "kernelspec": {
   "display_name": "Python 3",
   "name": "python3"
  },
  "language_info": {
   "name": "python"
  }
 },
 "nbformat": 4,
 "nbformat_minor": 0
}
